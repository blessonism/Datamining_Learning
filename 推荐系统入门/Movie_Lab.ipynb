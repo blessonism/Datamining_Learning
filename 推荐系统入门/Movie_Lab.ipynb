{
 "cells": [
  {
   "cell_type": "code",
   "execution_count": 31,
   "metadata": {},
   "outputs": [],
   "source": [
    "import pandas as pd\n",
    "import numpy as np\n",
    "from sklearn.impute import KNNImputer\n",
    "from sklearn.metrics.pairwise import cosine_similarity\n",
    "from sklearn.metrics import mean_squared_error, mean_absolute_error"
   ]
  },
  {
   "cell_type": "markdown",
   "metadata": {},
   "source": [
    "## 数据准备与预处理"
   ]
  },
  {
   "cell_type": "code",
   "execution_count": 32,
   "metadata": {},
   "outputs": [
    {
     "name": "stdout",
     "output_type": "stream",
     "text": [
      "     Unnamed: 0  Patrick C  Heather  Bryan  Patrick T  Thomas  aaron  vanessa  \\\n",
      "0         Alien        NaN      NaN    2.0        NaN     5.0    4.0      NaN   \n",
      "1        Avatar        4.0      5.0    5.0        4.0     2.0    NaN      4.0   \n",
      "2  Blade Runner        5.0      NaN    NaN        NaN     5.0    4.0      NaN   \n",
      "3    Braveheart        4.0      NaN    5.0        NaN     4.0    4.0      3.0   \n",
      "4     Dodgeball        5.0      4.0    3.0        2.0     4.0    NaN      4.0   \n",
      "\n",
      "   greg  brian  ...  Zak  Matt  Chris.1  Josh  Amy  Valerie  Gary  Stephen  \\\n",
      "0   NaN    4.0  ...  NaN   NaN      4.0   3.0  NaN      NaN   2.0      5.0   \n",
      "1   3.0    NaN  ...  5.0   NaN      NaN   4.0  3.0      2.0   1.0      4.0   \n",
      "2   1.0    5.0  ...  NaN   NaN      3.0   NaN  3.0      3.0   1.0      NaN   \n",
      "3   4.0    4.0  ...  5.0   NaN      4.0   NaN  3.0      4.0   5.0      5.0   \n",
      "4   5.0    3.0  ...  3.0   NaN      3.0   NaN  4.0      3.0   4.0      3.0   \n",
      "\n",
      "   Jessica  Jeff  \n",
      "0      NaN   4.0  \n",
      "1      NaN   4.0  \n",
      "2      NaN   5.0  \n",
      "3      NaN   4.0  \n",
      "4      NaN   3.0  \n",
      "\n",
      "[5 rows x 26 columns]\n",
      "<class 'pandas.core.frame.DataFrame'>\n",
      "RangeIndex: 25 entries, 0 to 24\n",
      "Data columns (total 26 columns):\n",
      " #   Column      Non-Null Count  Dtype  \n",
      "---  ------      --------------  -----  \n",
      " 0   Unnamed: 0  25 non-null     object \n",
      " 1   Patrick C   18 non-null     float64\n",
      " 2   Heather     15 non-null     float64\n",
      " 3   Bryan       22 non-null     float64\n",
      " 4   Patrick T   15 non-null     float64\n",
      " 5   Thomas      22 non-null     float64\n",
      " 6   aaron       14 non-null     float64\n",
      " 7   vanessa     15 non-null     float64\n",
      " 8   greg        18 non-null     float64\n",
      " 9   brian       23 non-null     float64\n",
      " 10  ben         20 non-null     float64\n",
      " 11  Katherine   12 non-null     float64\n",
      " 12  Jonathan    18 non-null     float64\n",
      " 13  Zwe         22 non-null     float64\n",
      " 14  Erin        12 non-null     float64\n",
      " 15  Chris       24 non-null     float64\n",
      " 16  Zak         19 non-null     float64\n",
      " 17  Matt        6 non-null      float64\n",
      " 18  Chris.1     22 non-null     float64\n",
      " 19  Josh        11 non-null     float64\n",
      " 20  Amy         17 non-null     float64\n",
      " 21  Valerie     23 non-null     float64\n",
      " 22  Gary        21 non-null     float64\n",
      " 23  Stephen     18 non-null     float64\n",
      " 24  Jessica     12 non-null     float64\n",
      " 25  Jeff        22 non-null     float64\n",
      "dtypes: float64(25), object(1)\n",
      "memory usage: 5.2+ KB\n",
      "None\n"
     ]
    }
   ],
   "source": [
    "import pandas as pd\n",
    "\n",
    "# 导入数据\n",
    "data_path = 'Movie_Ratings.csv'\n",
    "df = pd.read_csv(data_path)\n",
    "\n",
    "# 查看数据结构和前几行\n",
    "print(df.head())\n",
    "print(df.info())\n"
   ]
  },
  {
   "cell_type": "code",
   "execution_count": 33,
   "metadata": {},
   "outputs": [
    {
     "name": "stdout",
     "output_type": "stream",
     "text": [
      "     Unnamed: 0  Patrick C  Heather  Bryan  Patrick T  Thomas  aaron  vanessa  \\\n",
      "0         Alien        NaN      NaN    2.0        NaN     5.0    4.0      NaN   \n",
      "1        Avatar        4.0      5.0    5.0        4.0     2.0    NaN      4.0   \n",
      "2  Blade Runner        5.0      NaN    NaN        NaN     5.0    4.0      NaN   \n",
      "3    Braveheart        4.0      NaN    5.0        NaN     4.0    4.0      3.0   \n",
      "4     Dodgeball        5.0      4.0    3.0        2.0     4.0    NaN      4.0   \n",
      "\n",
      "   greg  brian  ...  Zak  Matt  Chris.1  Josh  Amy  Valerie  Gary  Stephen  \\\n",
      "0   NaN    4.0  ...  NaN   NaN      4.0   3.0  NaN      NaN   2.0      5.0   \n",
      "1   3.0    NaN  ...  5.0   NaN      NaN   4.0  3.0      2.0   1.0      4.0   \n",
      "2   1.0    5.0  ...  NaN   NaN      3.0   NaN  3.0      3.0   1.0      NaN   \n",
      "3   4.0    4.0  ...  5.0   NaN      4.0   NaN  3.0      4.0   5.0      5.0   \n",
      "4   5.0    3.0  ...  3.0   NaN      3.0   NaN  4.0      3.0   4.0      3.0   \n",
      "\n",
      "   Jessica  Jeff  \n",
      "0      NaN   4.0  \n",
      "1      NaN   4.0  \n",
      "2      NaN   5.0  \n",
      "3      NaN   4.0  \n",
      "4      NaN   3.0  \n",
      "\n",
      "[5 rows x 26 columns]\n",
      "Index(['Unnamed: 0', 'Patrick C', 'Heather', 'Bryan', 'Patrick T', 'Thomas',\n",
      "       'aaron', 'vanessa', 'greg', 'brian', 'ben', 'Katherine', 'Jonathan',\n",
      "       'Zwe', 'Erin', 'Chris', 'Zak', 'Matt', 'Chris.1', 'Josh', 'Amy',\n",
      "       'Valerie', 'Gary', 'Stephen', 'Jessica', 'Jeff'],\n",
      "      dtype='object')\n"
     ]
    }
   ],
   "source": [
    "# 查看数据结构和前几行\n",
    "print(df.head())\n",
    "print(df.columns)"
   ]
  },
  {
   "cell_type": "code",
   "execution_count": 34,
   "metadata": {},
   "outputs": [],
   "source": [
    "# 将第一列作为项目名称，其他列作为用户的评分\n",
    "df.set_index('Unnamed: 0', inplace=True)\n",
    "df.index.name = 'Movie'"
   ]
  },
  {
   "cell_type": "code",
   "execution_count": 35,
   "metadata": {},
   "outputs": [],
   "source": [
    "# 转置数据，使其成为用户-物品矩阵\n",
    "user_item_matrix = df.T"
   ]
  },
  {
   "cell_type": "code",
   "execution_count": 36,
   "metadata": {},
   "outputs": [],
   "source": [
    "# 使用KNN填充缺失值\n",
    "imputer = KNNImputer(n_neighbors=5)\n",
    "user_item_matrix_filled = pd.DataFrame(imputer.fit_transform(user_item_matrix), index=user_item_matrix.index, columns=user_item_matrix.columns)\n"
   ]
  },
  {
   "cell_type": "code",
   "execution_count": 37,
   "metadata": {},
   "outputs": [],
   "source": [
    "# 计算用户之间的余弦相似度\n",
    "user_similarity = cosine_similarity(user_item_matrix_filled)"
   ]
  },
  {
   "cell_type": "code",
   "execution_count": 38,
   "metadata": {},
   "outputs": [
    {
     "name": "stdout",
     "output_type": "stream",
     "text": [
      "           Patrick C   Heather     Bryan  Patrick T    Thomas     aaron  \\\n",
      "Patrick C   1.000000  0.962423  0.960502   0.930568  0.968409  0.958182   \n",
      "Heather     0.962423  1.000000  0.967554   0.938765  0.949125  0.956857   \n",
      "Bryan       0.960502  0.967554  1.000000   0.958944  0.919359  0.957333   \n",
      "Patrick T   0.930568  0.938765  0.958944   1.000000  0.931274  0.930444   \n",
      "Thomas      0.968409  0.949125  0.919359   0.931274  1.000000  0.933432   \n",
      "\n",
      "            vanessa      greg     brian       ben  ...       Zak      Matt  \\\n",
      "Patrick C  0.972070  0.949084  0.973332  0.965722  ...  0.954913  0.955020   \n",
      "Heather    0.967259  0.962890  0.963833  0.951389  ...  0.970154  0.971034   \n",
      "Bryan      0.948555  0.940955  0.946737  0.940985  ...  0.972729  0.956214   \n",
      "Patrick T  0.933036  0.925473  0.924237  0.927611  ...  0.941079  0.939556   \n",
      "Thomas     0.956296  0.940330  0.954009  0.948409  ...  0.917712  0.935420   \n",
      "\n",
      "            Chris.1      Josh       Amy   Valerie      Gary   Stephen  \\\n",
      "Patrick C  0.952270  0.972864  0.956230  0.942640  0.924576  0.951855   \n",
      "Heather    0.952679  0.978184  0.960537  0.945861  0.940812  0.938115   \n",
      "Bryan      0.944209  0.965557  0.934871  0.906976  0.914941  0.929848   \n",
      "Patrick T  0.925836  0.938771  0.924007  0.896656  0.882935  0.941260   \n",
      "Thomas     0.925393  0.951289  0.936816  0.951673  0.928450  0.951056   \n",
      "\n",
      "            Jessica      Jeff  \n",
      "Patrick C  0.973769  0.938902  \n",
      "Heather    0.961965  0.962418  \n",
      "Bryan      0.952502  0.929572  \n",
      "Patrick T  0.929197  0.921723  \n",
      "Thomas     0.935558  0.939862  \n",
      "\n",
      "[5 rows x 25 columns]\n"
     ]
    }
   ],
   "source": [
    "# 将相似度矩阵转换为DataFrame，便于后续处理\n",
    "user_similarity_df = pd.DataFrame(user_similarity, index=user_item_matrix_filled.index, columns=user_item_matrix_filled.index)\n",
    "\n",
    "print(user_similarity_df.head())"
   ]
  },
  {
   "cell_type": "code",
   "execution_count": 39,
   "metadata": {},
   "outputs": [
    {
     "name": "stdout",
     "output_type": "stream",
     "text": [
      "Empty DataFrame\n",
      "Columns: [score]\n",
      "Index: []\n"
     ]
    }
   ],
   "source": [
    "def get_recommendations(user_id, user_item_matrix, user_similarity_df, k=5):\n",
    "    # 获取与目标用户相似的前k个用户\n",
    "    similar_users = user_similarity_df[user_id].sort_values(ascending=False).index[1:k+1]\n",
    "    \n",
    "    # 收集相似用户的评分\n",
    "    similar_users_ratings = user_item_matrix.loc[similar_users]\n",
    "    \n",
    "    # 计算推荐评分（加权平均评分）\n",
    "    weights = user_similarity_df.loc[similar_users, user_id].values\n",
    "    weighted_ratings = np.dot(similar_users_ratings.T, weights) / weights.sum()\n",
    "    \n",
    "    # 转换为DataFrame\n",
    "    weighted_ratings_df = pd.DataFrame(weighted_ratings, index=user_item_matrix.columns, columns=['score'])\n",
    "    \n",
    "    # 去除目标用户已经评分的电影\n",
    "    rated_movies = user_item_matrix.loc[user_id][user_item_matrix.loc[user_id] > 0].index\n",
    "    recommended_movies = weighted_ratings_df[~weighted_ratings_df.index.isin(rated_movies)]\n",
    "    \n",
    "    # 排序并选择前n个电影\n",
    "    recommended_movies = recommended_movies.sort_values(by='score', ascending=False).head(k)\n",
    "    \n",
    "    return recommended_movies\n",
    "\n",
    "# 示例：为用户'Patrick C'推荐电影\n",
    "recommendations = get_recommendations('Patrick C', user_item_matrix_filled, user_similarity_df)\n",
    "print(recommendations)"
   ]
  },
  {
   "cell_type": "code",
   "execution_count": 40,
   "metadata": {},
   "outputs": [
    {
     "ename": "KeyError",
     "evalue": "'vanessa'",
     "output_type": "error",
     "traceback": [
      "\u001b[1;31m---------------------------------------------------------------------------\u001b[0m",
      "\u001b[1;31mKeyError\u001b[0m                                  Traceback (most recent call last)",
      "File \u001b[1;32mc:\\Users\\z4638\\AppData\\Local\\Programs\\Python\\Python311\\Lib\\site-packages\\pandas\\core\\indexes\\base.py:3653\u001b[0m, in \u001b[0;36mIndex.get_loc\u001b[1;34m(self, key)\u001b[0m\n\u001b[0;32m   3652\u001b[0m \u001b[38;5;28;01mtry\u001b[39;00m:\n\u001b[1;32m-> 3653\u001b[0m     \u001b[38;5;28;01mreturn\u001b[39;00m \u001b[38;5;28;43mself\u001b[39;49m\u001b[38;5;241;43m.\u001b[39;49m\u001b[43m_engine\u001b[49m\u001b[38;5;241;43m.\u001b[39;49m\u001b[43mget_loc\u001b[49m\u001b[43m(\u001b[49m\u001b[43mcasted_key\u001b[49m\u001b[43m)\u001b[49m\n\u001b[0;32m   3654\u001b[0m \u001b[38;5;28;01mexcept\u001b[39;00m \u001b[38;5;167;01mKeyError\u001b[39;00m \u001b[38;5;28;01mas\u001b[39;00m err:\n",
      "File \u001b[1;32mc:\\Users\\z4638\\AppData\\Local\\Programs\\Python\\Python311\\Lib\\site-packages\\pandas\\_libs\\index.pyx:147\u001b[0m, in \u001b[0;36mpandas._libs.index.IndexEngine.get_loc\u001b[1;34m()\u001b[0m\n",
      "File \u001b[1;32mc:\\Users\\z4638\\AppData\\Local\\Programs\\Python\\Python311\\Lib\\site-packages\\pandas\\_libs\\index.pyx:176\u001b[0m, in \u001b[0;36mpandas._libs.index.IndexEngine.get_loc\u001b[1;34m()\u001b[0m\n",
      "File \u001b[1;32mpandas\\_libs\\hashtable_class_helper.pxi:7080\u001b[0m, in \u001b[0;36mpandas._libs.hashtable.PyObjectHashTable.get_item\u001b[1;34m()\u001b[0m\n",
      "File \u001b[1;32mpandas\\_libs\\hashtable_class_helper.pxi:7088\u001b[0m, in \u001b[0;36mpandas._libs.hashtable.PyObjectHashTable.get_item\u001b[1;34m()\u001b[0m\n",
      "\u001b[1;31mKeyError\u001b[0m: 'vanessa'",
      "\nThe above exception was the direct cause of the following exception:\n",
      "\u001b[1;31mKeyError\u001b[0m                                  Traceback (most recent call last)",
      "Cell \u001b[1;32mIn[40], line 28\u001b[0m\n\u001b[0;32m     25\u001b[0m user_similarity_df_train \u001b[38;5;241m=\u001b[39m pd\u001b[38;5;241m.\u001b[39mDataFrame(cosine_similarity(user_item_matrix_train_filled), index\u001b[38;5;241m=\u001b[39muser_item_matrix_train_filled\u001b[38;5;241m.\u001b[39mindex, columns\u001b[38;5;241m=\u001b[39muser_item_matrix_train_filled\u001b[38;5;241m.\u001b[39mindex)\n\u001b[0;32m     27\u001b[0m \u001b[38;5;66;03m# 评估推荐系统\u001b[39;00m\n\u001b[1;32m---> 28\u001b[0m rmse, mae \u001b[38;5;241m=\u001b[39m \u001b[43mevaluate_recommendations\u001b[49m\u001b[43m(\u001b[49m\u001b[43mtest_set\u001b[49m\u001b[43m,\u001b[49m\u001b[43m \u001b[49m\u001b[43muser_item_matrix_train_filled\u001b[49m\u001b[43m,\u001b[49m\u001b[43m \u001b[49m\u001b[43muser_similarity_df_train\u001b[49m\u001b[43m)\u001b[49m\n\u001b[0;32m     29\u001b[0m \u001b[38;5;28mprint\u001b[39m(\u001b[38;5;124mf\u001b[39m\u001b[38;5;124m'\u001b[39m\u001b[38;5;124mRMSE: \u001b[39m\u001b[38;5;132;01m{\u001b[39;00mrmse\u001b[38;5;132;01m}\u001b[39;00m\u001b[38;5;124m, MAE: \u001b[39m\u001b[38;5;132;01m{\u001b[39;00mmae\u001b[38;5;132;01m}\u001b[39;00m\u001b[38;5;124m'\u001b[39m)\n",
      "Cell \u001b[1;32mIn[40], line 6\u001b[0m, in \u001b[0;36mevaluate_recommendations\u001b[1;34m(test_set, user_item_matrix, user_similarity_df, k)\u001b[0m\n\u001b[0;32m      3\u001b[0m predicted_ratings \u001b[38;5;241m=\u001b[39m []\n\u001b[0;32m      5\u001b[0m \u001b[38;5;28;01mfor\u001b[39;00m user_id \u001b[38;5;129;01min\u001b[39;00m test_set\u001b[38;5;241m.\u001b[39mindex:\n\u001b[1;32m----> 6\u001b[0m     recommendations \u001b[38;5;241m=\u001b[39m \u001b[43mget_recommendations\u001b[49m\u001b[43m(\u001b[49m\u001b[43muser_id\u001b[49m\u001b[43m,\u001b[49m\u001b[43m \u001b[49m\u001b[43muser_item_matrix\u001b[49m\u001b[43m,\u001b[49m\u001b[43m \u001b[49m\u001b[43muser_similarity_df\u001b[49m\u001b[43m,\u001b[49m\u001b[43m \u001b[49m\u001b[43mk\u001b[49m\u001b[43m)\u001b[49m\n\u001b[0;32m      7\u001b[0m     \u001b[38;5;28;01mfor\u001b[39;00m movie_id, score \u001b[38;5;129;01min\u001b[39;00m recommendations\u001b[38;5;241m.\u001b[39miterrows():\n\u001b[0;32m      8\u001b[0m         actual_rating \u001b[38;5;241m=\u001b[39m test_set\u001b[38;5;241m.\u001b[39mloc[user_id, movie_id]\n",
      "Cell \u001b[1;32mIn[39], line 3\u001b[0m, in \u001b[0;36mget_recommendations\u001b[1;34m(user_id, user_item_matrix, user_similarity_df, k)\u001b[0m\n\u001b[0;32m      1\u001b[0m \u001b[38;5;28;01mdef\u001b[39;00m \u001b[38;5;21mget_recommendations\u001b[39m(user_id, user_item_matrix, user_similarity_df, k\u001b[38;5;241m=\u001b[39m\u001b[38;5;241m5\u001b[39m):\n\u001b[0;32m      2\u001b[0m     \u001b[38;5;66;03m# 获取与目标用户相似的前k个用户\u001b[39;00m\n\u001b[1;32m----> 3\u001b[0m     similar_users \u001b[38;5;241m=\u001b[39m \u001b[43muser_similarity_df\u001b[49m\u001b[43m[\u001b[49m\u001b[43muser_id\u001b[49m\u001b[43m]\u001b[49m\u001b[38;5;241m.\u001b[39msort_values(ascending\u001b[38;5;241m=\u001b[39m\u001b[38;5;28;01mFalse\u001b[39;00m)\u001b[38;5;241m.\u001b[39mindex[\u001b[38;5;241m1\u001b[39m:k\u001b[38;5;241m+\u001b[39m\u001b[38;5;241m1\u001b[39m]\n\u001b[0;32m      5\u001b[0m     \u001b[38;5;66;03m# 收集相似用户的评分\u001b[39;00m\n\u001b[0;32m      6\u001b[0m     similar_users_ratings \u001b[38;5;241m=\u001b[39m user_item_matrix\u001b[38;5;241m.\u001b[39mloc[similar_users]\n",
      "File \u001b[1;32mc:\\Users\\z4638\\AppData\\Local\\Programs\\Python\\Python311\\Lib\\site-packages\\pandas\\core\\frame.py:3761\u001b[0m, in \u001b[0;36mDataFrame.__getitem__\u001b[1;34m(self, key)\u001b[0m\n\u001b[0;32m   3759\u001b[0m \u001b[38;5;28;01mif\u001b[39;00m \u001b[38;5;28mself\u001b[39m\u001b[38;5;241m.\u001b[39mcolumns\u001b[38;5;241m.\u001b[39mnlevels \u001b[38;5;241m>\u001b[39m \u001b[38;5;241m1\u001b[39m:\n\u001b[0;32m   3760\u001b[0m     \u001b[38;5;28;01mreturn\u001b[39;00m \u001b[38;5;28mself\u001b[39m\u001b[38;5;241m.\u001b[39m_getitem_multilevel(key)\n\u001b[1;32m-> 3761\u001b[0m indexer \u001b[38;5;241m=\u001b[39m \u001b[38;5;28;43mself\u001b[39;49m\u001b[38;5;241;43m.\u001b[39;49m\u001b[43mcolumns\u001b[49m\u001b[38;5;241;43m.\u001b[39;49m\u001b[43mget_loc\u001b[49m\u001b[43m(\u001b[49m\u001b[43mkey\u001b[49m\u001b[43m)\u001b[49m\n\u001b[0;32m   3762\u001b[0m \u001b[38;5;28;01mif\u001b[39;00m is_integer(indexer):\n\u001b[0;32m   3763\u001b[0m     indexer \u001b[38;5;241m=\u001b[39m [indexer]\n",
      "File \u001b[1;32mc:\\Users\\z4638\\AppData\\Local\\Programs\\Python\\Python311\\Lib\\site-packages\\pandas\\core\\indexes\\base.py:3655\u001b[0m, in \u001b[0;36mIndex.get_loc\u001b[1;34m(self, key)\u001b[0m\n\u001b[0;32m   3653\u001b[0m     \u001b[38;5;28;01mreturn\u001b[39;00m \u001b[38;5;28mself\u001b[39m\u001b[38;5;241m.\u001b[39m_engine\u001b[38;5;241m.\u001b[39mget_loc(casted_key)\n\u001b[0;32m   3654\u001b[0m \u001b[38;5;28;01mexcept\u001b[39;00m \u001b[38;5;167;01mKeyError\u001b[39;00m \u001b[38;5;28;01mas\u001b[39;00m err:\n\u001b[1;32m-> 3655\u001b[0m     \u001b[38;5;28;01mraise\u001b[39;00m \u001b[38;5;167;01mKeyError\u001b[39;00m(key) \u001b[38;5;28;01mfrom\u001b[39;00m \u001b[38;5;21;01merr\u001b[39;00m\n\u001b[0;32m   3656\u001b[0m \u001b[38;5;28;01mexcept\u001b[39;00m \u001b[38;5;167;01mTypeError\u001b[39;00m:\n\u001b[0;32m   3657\u001b[0m     \u001b[38;5;66;03m# If we have a listlike key, _check_indexing_error will raise\u001b[39;00m\n\u001b[0;32m   3658\u001b[0m     \u001b[38;5;66;03m#  InvalidIndexError. Otherwise we fall through and re-raise\u001b[39;00m\n\u001b[0;32m   3659\u001b[0m     \u001b[38;5;66;03m#  the TypeError.\u001b[39;00m\n\u001b[0;32m   3660\u001b[0m     \u001b[38;5;28mself\u001b[39m\u001b[38;5;241m.\u001b[39m_check_indexing_error(key)\n",
      "\u001b[1;31mKeyError\u001b[0m: 'vanessa'"
     ]
    }
   ],
   "source": [
    "def evaluate_recommendations(test_set, user_item_matrix, user_similarity_df, k=5):\n",
    "    actual_ratings = []\n",
    "    predicted_ratings = []\n",
    "    \n",
    "    for user_id in test_set.index:\n",
    "        recommendations = get_recommendations(user_id, user_item_matrix, user_similarity_df, k)\n",
    "        for movie_id, score in recommendations.iterrows():\n",
    "            actual_rating = test_set.loc[user_id, movie_id]\n",
    "            if not np.isnan(actual_rating):\n",
    "                actual_ratings.append(actual_rating)\n",
    "                predicted_ratings.append(score['score'])\n",
    "    \n",
    "    rmse = mean_squared_error(actual_ratings, predicted_ratings, squared=False)\n",
    "    mae = mean_absolute_error(actual_ratings, predicted_ratings)\n",
    "    \n",
    "    return rmse, mae\n",
    "\n",
    "# 将数据分为训练集和测试集\n",
    "train_set = user_item_matrix.sample(frac=0.8, random_state=42)\n",
    "test_set = user_item_matrix.drop(train_set.index)\n",
    "\n",
    "# 使用训练集重新计算用户相似度\n",
    "imputer = KNNImputer(n_neighbors=5)\n",
    "user_item_matrix_train_filled = pd.DataFrame(imputer.fit_transform(train_set), index=train_set.index, columns=train_set.columns)\n",
    "user_similarity_df_train = pd.DataFrame(cosine_similarity(user_item_matrix_train_filled), index=user_item_matrix_train_filled.index, columns=user_item_matrix_train_filled.index)\n",
    "\n",
    "# 评估推荐系统\n",
    "rmse, mae = evaluate_recommendations(test_set, user_item_matrix_train_filled, user_similarity_df_train)\n",
    "print(f'RMSE: {rmse}, MAE: {mae}')\n"
   ]
  }
 ],
 "metadata": {
  "kernelspec": {
   "display_name": "Python 3",
   "language": "python",
   "name": "python3"
  },
  "language_info": {
   "codemirror_mode": {
    "name": "ipython",
    "version": 3
   },
   "file_extension": ".py",
   "mimetype": "text/x-python",
   "name": "python",
   "nbconvert_exporter": "python",
   "pygments_lexer": "ipython3",
   "version": "3.11.5"
  }
 },
 "nbformat": 4,
 "nbformat_minor": 2
}
