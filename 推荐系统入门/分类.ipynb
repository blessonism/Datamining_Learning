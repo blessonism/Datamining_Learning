{
 "cells": [
  {
   "cell_type": "code",
   "execution_count": 22,
   "metadata": {},
   "outputs": [],
   "source": [
    "def manhattan(rating1, rating2):\n",
    "    \"\"\"计算曼哈顿距离。rating1和rating2参数中存储的数据格式均为\n",
    "    {'The Strokes': 3.0, 'Slightly Stoopid': 2.5}\"\"\"\n",
    "    distance = 0\n",
    "    for key in rating1:\n",
    "        if key in rating2:\n",
    "            distance += abs(rating1[key] - rating2[key])\n",
    "    return distance\n",
    "def computeNearestNeighbor(username, users):\n",
    "    \"\"\"计算所有用户至username用户的距离，倒序排列并返回结果列表\"\"\"\n",
    "    distances = []\n",
    "    for user in users:\n",
    "        if user != username:\n",
    "            distance = manhattan(users[user], users[username])\n",
    "            distances.append((distance, user))\n",
    "    # 按距离排序——距离近的排在前面\n",
    "    distances.sort()\n",
    "    return distances\n"
   ]
  },
  {
   "cell_type": "code",
   "execution_count": 23,
   "metadata": {},
   "outputs": [],
   "source": [
    "users = {\"Angelica\": {\"Blues Traveler\": 3.5, \"Broken Bells\": 2.0, \"Norah Jones\": 4.5, \"Phoenix\": 5.0, \"Slightly Stoopid\": 1.5, \"The Strokes\": 2.5, \"Vampire Weekend\": 2.0},\n",
    "         \"Bill\":{\"Blues Traveler\": 2.0, \"Broken Bells\": 3.5, \"Deadmau5\": 4.0, \"Phoenix\": 2.0, \"Slightly Stoopid\": 3.5, \"Vampire Weekend\": 3.0}}"
   ]
  },
  {
   "cell_type": "code",
   "execution_count": 24,
   "metadata": {},
   "outputs": [],
   "source": [
    "music = {\"Dr Dog/Fate\": {\"piano\": 2.5, \"vocals\": 4, \"beat\": 3.5, \"blues\": 3, \"guitar\": 5, \"backup vocals\": 4, \"rap\": 1},\n",
    "         \"Phoenix/Lisztomania\": {\"piano\": 2, \"vocals\": 5, \"beat\": 5, \"blues\": 3, \"guitar\": 2, \"backup vocals\": 1, \"rap\": 1},\n",
    "         \"Heartless Bastards/Out at Sea\": {\"piano\": 1, \"vocals\": 5, \"beat\": 4, \"blues\": 2, \"guitar\": 4, \"backup vocals\": 1, \"rap\": 1},\n",
    "         \"Todd Snider/Don't Tempt Me\": {\"piano\": 4, \"vocals\": 5, \"beat\": 4, \"blues\": 4, \"guitar\": 1, \"backup vocals\": 5, \"rap\": 1},\n",
    "         \"The Black Keys/Magic Potion\": {\"piano\": 1, \"vocals\": 4, \"beat\": 5, \"blues\": 3.5, \"guitar\": 5, \"backup vocals\": 1, \"rap\": 1},\n",
    "         \"Glee Cast/Jessie's Girl\": {\"piano\": 1, \"vocals\": 5, \"beat\": 3.5, \"blues\": 3, \"guitar\":4, \"backup vocals\": 5, \"rap\": 1},\n",
    "         \"La Roux/Bulletproof\": {\"piano\": 5, \"vocals\": 5, \"beat\": 4, \"blues\": 2, \"guitar\": 1, \"backup vocals\": 1, \"rap\": 1},\n",
    "         \"Mike Posner\": {\"piano\": 2.5, \"vocals\": 4, \"beat\": 4, \"blues\": 1, \"guitar\": 1, \"backup vocals\": 1, \"rap\": 1},\n",
    "         \"Black Eyed Peas/Rock That Body\": {\"piano\": 2, \"vocals\": 5, \"beat\": 5, \"blues\": 1, \"guitar\": 2, \"backup vocals\": 2, \"rap\": 4},\n",
    "         \"Lady Gaga/Alejandro\": {\"piano\": 1, \"vocals\": 5, \"beat\": 3, \"blues\": 2, \"guitar\": 1, \"backup vocals\": 2, \"rap\": 1}}\n"
   ]
  },
  {
   "cell_type": "markdown",
   "metadata": {},
   "source": [
    "根据曼哈顿距离来进行推荐"
   ]
  },
  {
   "cell_type": "code",
   "execution_count": 25,
   "metadata": {},
   "outputs": [
    {
     "data": {
      "text/plain": [
       "[(4.5, 'Heartless Bastards/Out at Sea'),\n",
       " (5.5, 'Phoenix/Lisztomania'),\n",
       " (6.5, 'Dr Dog/Fate'),\n",
       " (8.0, \"Glee Cast/Jessie's Girl\"),\n",
       " (9.0, 'Mike Posner'),\n",
       " (9.5, 'Lady Gaga/Alejandro'),\n",
       " (11.5, 'Black Eyed Peas/Rock That Body'),\n",
       " (11.5, 'La Roux/Bulletproof'),\n",
       " (13.5, \"Todd Snider/Don't Tempt Me\")]"
      ]
     },
     "execution_count": 25,
     "metadata": {},
     "output_type": "execute_result"
    }
   ],
   "source": [
    "computeNearestNeighbor('The Black Keys/Magic Potion', music)"
   ]
  },
  {
   "cell_type": "markdown",
   "metadata": {},
   "source": [
    "## 使用Python实现最邻近分类算法"
   ]
  },
  {
   "cell_type": "code",
   "execution_count": 26,
   "metadata": {},
   "outputs": [],
   "source": [
    "#\n",
    "# 物品向量中的特征依次为：piano, vocals, beat, blues, guitar, backup vocals, rap\n",
    "#\n",
    "items = {\"Dr Dog/Fate\": [2.5, 4, 3.5, 3, 5, 4, 1],\n",
    "         \"Phoenix/Lisztomania\": [2, 5, 5, 3, 2, 1, 1],\n",
    "         \"Heartless Bastards/Out\": [1, 5, 4, 2, 4, 1, 1],\n",
    "         \"Todd Snider/Don't Tempt Me\": [4, 5, 4, 4, 1, 5, 1],\n",
    "         \"The Black Keys/Magic Potion\": [1, 4, 5, 3.5, 5, 1, 1],\n",
    "         \"Glee Cast/Jessie's Girl\": [1, 5, 3.5, 3, 4, 5, 1],\n",
    "         \"La Roux/Bulletproof\": [5, 5, 4, 2, 1, 1, 1],\n",
    "         \"Mike Posner\": [2.5, 4, 4, 1, 1, 1, 1],\n",
    "         \"Black Eyed Peas/Rock That Body\": [2, 5, 5, 1, 2, 2, 4],\n",
    "         \"Lady Gaga/Alejandro\": [1, 5, 3, 2, 1, 2, 1]}\n"
   ]
  },
  {
   "cell_type": "code",
   "execution_count": 27,
   "metadata": {},
   "outputs": [],
   "source": [
    "users = {\"Angelica\": {\"Dr Dog/Fate\": \"L\",\n",
    "                      \"Phoenix/Lisztomania\": \"L\",\n",
    "                      \"Heartless Bastards/Out at Sea\": \"D\",\n",
    "                      \"Todd Snider/Don't Tempt Me\": \"D\",\n",
    "                      \"The Black Keys/Magic Potion\": \"D\",\n",
    "                      \"Glee Cast/Jessie's Girl\": \"L\",\n",
    "                      \"La Roux/Bulletproof\": \"D\",\n",
    "                      \"Mike Posner\": \"D\",\n",
    "                      \"Black Eyed Peas/Rock That Body\": \"D\",\n",
    "                      \"Lady Gaga/Alejandro\": \"L\"},\n",
    "         \"Bill\": {\"Dr Dog/Fate\": \"L\",\n",
    "                  \"Phoenix/Lisztomania\": \"L\",\n",
    "                  \"Heartless Bastards/Out at Sea\": \"L\",\n",
    "                  \"Todd Snider/Don't Tempt Me\": \"D\",\n",
    "                  \"The Black Keys/Magic Potion\": \"L\",\n",
    "                  \"Glee Cast/Jessie's Girl\": \"D\",\n",
    "                  \"La Roux/Bulletproof\": \"D\",\n",
    "                  \"Mike Posner\": \"D\",\n",
    "                  \"Black Eyed Peas/Rock That Body\": \"D\",\n",
    "                  \"Lady Gaga/Alejandro\": \"D\"}}\n"
   ]
  },
  {
   "cell_type": "code",
   "execution_count": 28,
   "metadata": {},
   "outputs": [],
   "source": [
    "def manhattan(vector1, vector2):\n",
    "    distance = 0\n",
    "    total = 0\n",
    "    n = len(vector1)\n",
    "    for i in range(n):\n",
    "        distance += abs(vector1[i] - vector2[i])\n",
    "    return distance\n",
    "    \n",
    "def computeNearestNeighbor(itemName, itemVector, items):\n",
    "    \"\"\"按照距离排序，返回邻近物品列表\"\"\"\n",
    "    distances = []\n",
    "    for otherItem in items:\n",
    "        if otherItem != itemName:\n",
    "            distance = manhattan(itemVector, items[otherItem])\n",
    "            distances.append((distance, otherItem))\n",
    "    # 最近的排在前面\n",
    "    distances.sort()\n",
    "    return distances\n"
   ]
  },
  {
   "cell_type": "code",
   "execution_count": 29,
   "metadata": {},
   "outputs": [],
   "source": [
    "# 这个函数会先计算出与这个物品距离最近的物品，然后找到用户对这个最近物品的评价，以此作为新物品的预测值。\n",
    "def classify(user, itemName, itemVector):\n",
    "    nearest = computeNearestNeighbor(itemName, itemVector, items)[0][1]\n",
    "    rating = users[user][nearest]\n",
    "    return rating"
   ]
  },
  {
   "cell_type": "code",
   "execution_count": 30,
   "metadata": {},
   "outputs": [
    {
     "data": {
      "text/plain": [
       "'L'"
      ]
     },
     "execution_count": 30,
     "metadata": {},
     "output_type": "execute_result"
    }
   ],
   "source": [
    "classify('Angelica', 'Chris Cagle/I Breathe In. I Breathe Out', [1, 5, 2.5, 1, 1, 5, 1])"
   ]
  },
  {
   "cell_type": "code",
   "execution_count": 31,
   "metadata": {},
   "outputs": [
    {
     "data": {
      "text/plain": [
       "[(4.5, 'Lady Gaga/Alejandro'),\n",
       " (6.0, \"Glee Cast/Jessie's Girl\"),\n",
       " (7.5, \"Todd Snider/Don't Tempt Me\"),\n",
       " (8.0, 'Mike Posner'),\n",
       " (9.5, 'Heartless Bastards/Out'),\n",
       " (10.5, 'Black Eyed Peas/Rock That Body'),\n",
       " (10.5, 'Dr Dog/Fate'),\n",
       " (10.5, 'La Roux/Bulletproof'),\n",
       " (10.5, 'Phoenix/Lisztomania'),\n",
       " (14.0, 'The Black Keys/Magic Potion')]"
      ]
     },
     "execution_count": 31,
     "metadata": {},
     "output_type": "execute_result"
    }
   ],
   "source": [
    "computeNearestNeighbor('Chris Cagle/I Breathe In. I Breathe Out', [1, 5, 2.5, 1, 1, 5, 1], items)"
   ]
  }
 ],
 "metadata": {
  "kernelspec": {
   "display_name": "Python 3",
   "language": "python",
   "name": "python3"
  },
  "language_info": {
   "codemirror_mode": {
    "name": "ipython",
    "version": 3
   },
   "file_extension": ".py",
   "mimetype": "text/x-python",
   "name": "python",
   "nbconvert_exporter": "python",
   "pygments_lexer": "ipython3",
   "version": "3.11.5"
  }
 },
 "nbformat": 4,
 "nbformat_minor": 2
}
